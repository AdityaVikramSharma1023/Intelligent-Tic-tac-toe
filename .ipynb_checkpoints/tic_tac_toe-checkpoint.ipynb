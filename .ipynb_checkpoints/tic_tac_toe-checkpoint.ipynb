{
 "cells": [
  {
   "cell_type": "markdown",
   "id": "67c8d20f-6bc0-40a4-b52e-eacb5c3e822f",
   "metadata": {},
   "source": [
    "### Basic rules:\n",
    "1. Cannot overwrite existing symbol<br>\n",
    "2. Cannot write if array/grid full<br>\n",
    "3. X is denoted by 1, O denoted by 0, blank denoted by 2\n"
   ]
  },
  {
   "cell_type": "markdown",
   "id": "5ee0549b-da3a-45f3-8c77-99e821117dcb",
   "metadata": {},
   "source": [
    "### Win Rules:\n",
    "1. Win if any 1 col or 1 row or 1 diagonal filled with same symbol<br>\n",
    "2. else draw"
   ]
  },
  {
   "cell_type": "code",
   "execution_count": 1,
   "id": "18eed881-0107-4c7c-8471-728c5065757f",
   "metadata": {
    "tags": []
   },
   "outputs": [],
   "source": [
    "import numpy as np\n",
    "import matplotlib.pyplot as plt\n",
    "import time\n",
    "from IPython.display import clear_output"
   ]
  },
  {
   "cell_type": "code",
   "execution_count": 2,
   "id": "c43b63e9-c978-4b70-9b25-6d4ce6d6ec32",
   "metadata": {
    "tags": []
   },
   "outputs": [
    {
     "name": "stdout",
     "output_type": "stream",
     "text": [
      "[[2 2 2]\n",
      " [2 2 2]\n",
      " [2 2 2]]\n"
     ]
    }
   ],
   "source": [
    "arr=np.zeros((3,3),dtype='uint8')\n",
    "arr.fill(2)\n",
    "print(arr)\n",
    "\n",
    "img=np.zeros((11,11,3),dtype='uint8')"
   ]
  },
  {
   "cell_type": "code",
   "execution_count": 3,
   "id": "b8acf014-9482-4994-b9cb-eb1205cbff59",
   "metadata": {},
   "outputs": [],
   "source": [
    "cross_col=(66, 245, 176)\n",
    "circle_col=(245, 66, 102)"
   ]
  },
  {
   "cell_type": "code",
   "execution_count": 4,
   "id": "fa11403d-f0c0-4a57-b855-b8e808caa639",
   "metadata": {
    "tags": []
   },
   "outputs": [],
   "source": [
    "def create_cross(start):\n",
    "    a=3*start[0]+start[0]\n",
    "    b=3*start[1]+start[1]\n",
    "    img[a,b]=cross_col\n",
    "    img[a+1,b+1]=cross_col\n",
    "    img[a+2,b+2]=cross_col\n",
    "    img[a,b+2]=cross_col\n",
    "    img[a+2,b]=cross_col"
   ]
  },
  {
   "cell_type": "code",
   "execution_count": 5,
   "id": "e8593e66-968a-478c-b084-320495a37413",
   "metadata": {
    "tags": []
   },
   "outputs": [],
   "source": [
    "def create_circle(start):\n",
    "    a=3*start[0]+start[0]\n",
    "    b=3*start[1]+start[1]\n",
    "    img[a,b]=circle_col\n",
    "    img[a,b+1]=circle_col\n",
    "    img[a,b+2]=circle_col\n",
    "    img[a+1,b]=circle_col\n",
    "    img[a+2,b]=circle_col\n",
    "    img[a+2,b+1]=circle_col\n",
    "    img[a+2,b+2]=circle_col\n",
    "    img[a+1,b+2]=circle_col"
   ]
  },
  {
   "cell_type": "code",
   "execution_count": 6,
   "id": "9888d3c1-5827-47f6-9368-2807333f40b1",
   "metadata": {},
   "outputs": [],
   "source": [
    "def comp_win():\n",
    "    #if any row or any col or any diagonal completely O\n",
    "    diag1={arr[0,0],arr[1,1],arr[2,2]}\n",
    "    diag2={arr[0,2],arr[1,1],arr[2,0]}\n",
    "    for i in range(3):\n",
    "        if (2 not in arr[i]) and set(arr[i])=={1}:\n",
    "            return True\n",
    "        if (2 not in arr[:,i]) and set(arr[:,i])=={1}:\n",
    "            return True\n",
    "    \n",
    "    if (2 not in diag1) and diag1=={1}:\n",
    "        return True\n",
    "    \n",
    "    if (2 not in diag2) and diag2=={1}:\n",
    "        return True\n",
    "    \n",
    "    return False"
   ]
  },
  {
   "cell_type": "code",
   "execution_count": 7,
   "id": "ea7998aa-fe74-4628-b39a-0c4aa8cf4f42",
   "metadata": {},
   "outputs": [],
   "source": [
    "def human_win():\n",
    "    #if any row or any col or any diagonal completely O\n",
    "    diag1={arr[0,0],arr[1,1],arr[2,2]}\n",
    "    diag2={arr[0,2],arr[1,1],arr[2,0]}\n",
    "    for i in range(3):\n",
    "        if (2 not in arr[i]) and set(arr[i])=={0}:\n",
    "            return True\n",
    "        if (2 not in arr[:,i]) and set(arr[:,i])=={0}:\n",
    "            return True\n",
    "    \n",
    "    if (2 not in diag1) and diag1=={0}:\n",
    "        return True\n",
    "    \n",
    "    if (2 not in diag2) and diag2=={0}:\n",
    "        return True\n",
    "    \n",
    "    return False"
   ]
  },
  {
   "cell_type": "code",
   "execution_count": 8,
   "id": "112cb408-d781-4257-bdce-e1195a53d787",
   "metadata": {},
   "outputs": [],
   "source": [
    "def empty_pos(arr):\n",
    "    temp=[]\n",
    "    for i in range(3):\n",
    "            for j in range(3):\n",
    "                if arr[i,j]!=0 and arr[i,j]!=1:\n",
    "                    temp.append([i,j])\n",
    "    return temp"
   ]
  },
  {
   "cell_type": "code",
   "execution_count": 9,
   "id": "3d015392-0cc5-48de-b029-5515b9b269ee",
   "metadata": {},
   "outputs": [],
   "source": [
    "def find_score(newtemp):\n",
    "    #score will store the maximum damage that O(human) can do\n",
    "    min=9999\n",
    "    score=0\n",
    "    for i in newtemp:\n",
    "        copy=arr[i[0],i[1]]\n",
    "        arr[i[0],i[1]]=0\n",
    "        if human_win()==True:\n",
    "            score=-999 #Very large -ve number ie. most damage\n",
    "            arr[i[0],i[1]]=copy\n",
    "            return score\n",
    "        countx=0\n",
    "        counto=0\n",
    "        \n",
    "        #calculating the damage(heuristic)\n",
    "        for j in range(3):\n",
    "            if 0 not in set(arr[j]):\n",
    "                countx+=1\n",
    "            if 1 not in set(arr[j]):\n",
    "                counto+=1\n",
    "            if 0 not in set(arr[:,j]):\n",
    "                countx+=1\n",
    "            if 1 not in set(arr[:,j]):\n",
    "                counto+=1\n",
    "        diag1={arr[0,0],arr[1,1],arr[2,2]}\n",
    "        diag2={arr[0,2],arr[1,1],arr[2,0]}\n",
    "        if 0 not in diag1:\n",
    "            countx+=1\n",
    "        if 0 not in diag2:\n",
    "            countx+=1\n",
    "        if 1 not in diag1:\n",
    "            counto+=1\n",
    "        if 1 not in diag2:\n",
    "            counto+=1\n",
    "            \n",
    "        diff=countx-counto\n",
    "        if diff<min:\n",
    "            min=diff\n",
    "        arr[i[0],i[1]]=copy\n",
    "    score=min    \n",
    "    return score"
   ]
  },
  {
   "cell_type": "code",
   "execution_count": 16,
   "id": "3e9145bb-8acb-4bfd-ad04-d8e7066df02f",
   "metadata": {},
   "outputs": [],
   "source": [
    "def intelligent_move(temp):\n",
    "    #max will store highest score for X(computer)\n",
    "    #bestpos will store next best move for X(computer)\n",
    "    max=-9999\n",
    "    bestpos=0\n",
    "    new_temp=[]\n",
    "    \n",
    "    #looping through the empty positions for X move\n",
    "    for i in range(len(temp)):\n",
    "        copy=arr[temp[i][0],temp[i][1]]\n",
    "        arr[temp[i][0],temp[i][1]]=1\n",
    "\n",
    "        if comp_win()==True:\n",
    "            return i\n",
    "            \n",
    "        #score calculated by going 1 step down to O(Human) moves\n",
    "        #current empty position filled by X so omit that position\n",
    "        new_temp=temp[0:i]+temp[i+1:len(temp)]\n",
    "        #print('This enters find_score:',new_temp,)\n",
    "        score=find_score(new_temp)\n",
    "        #print(' Score:',score)\n",
    "        \n",
    "        if score>max:\n",
    "            max=score\n",
    "            bestpos=i\n",
    "        \n",
    "        arr[temp[i][0],temp[i][1]]=copy\n",
    "            \n",
    "    return bestpos"
   ]
  },
  {
   "cell_type": "code",
   "execution_count": 20,
   "id": "a45dee93-d079-4974-acfd-15da6eacb5ee",
   "metadata": {
    "tags": []
   },
   "outputs": [
    {
     "ename": "KeyboardInterrupt",
     "evalue": "Interrupted by user",
     "output_type": "error",
     "traceback": [
      "\u001b[1;31m---------------------------------------------------------------------------\u001b[0m",
      "\u001b[1;31mKeyboardInterrupt\u001b[0m                         Traceback (most recent call last)",
      "Cell \u001b[1;32mIn[20], line 17\u001b[0m\n\u001b[0;32m     15\u001b[0m turn\u001b[38;5;241m=\u001b[39m\u001b[38;5;28mabs\u001b[39m(turn\u001b[38;5;241m-\u001b[39m\u001b[38;5;241m1\u001b[39m)\n\u001b[0;32m     16\u001b[0m \u001b[38;5;28;01mif\u001b[39;00m turn\u001b[38;5;241m==\u001b[39m\u001b[38;5;241m0\u001b[39m:\n\u001b[1;32m---> 17\u001b[0m     pos\u001b[38;5;241m=\u001b[39m\u001b[38;5;28mint\u001b[39m(\u001b[38;5;28minput\u001b[39m(\u001b[38;5;124m'\u001b[39m\u001b[38;5;124mEnter Position:\u001b[39m\u001b[38;5;124m'\u001b[39m))\u001b[38;5;241m-\u001b[39m\u001b[38;5;241m1\u001b[39m\n\u001b[0;32m     19\u001b[0m     posi\u001b[38;5;241m=\u001b[39mpos\u001b[38;5;241m/\u001b[39m\u001b[38;5;241m/\u001b[39m\u001b[38;5;241m3\u001b[39m\n\u001b[0;32m     20\u001b[0m     posj\u001b[38;5;241m=\u001b[39mpos\u001b[38;5;241m%\u001b[39m\u001b[38;5;241m3\u001b[39m\n",
      "File \u001b[1;32mD:\\Anaconda3\\Lib\\site-packages\\ipykernel\\kernelbase.py:1175\u001b[0m, in \u001b[0;36mKernel.raw_input\u001b[1;34m(self, prompt)\u001b[0m\n\u001b[0;32m   1171\u001b[0m \u001b[38;5;28;01mif\u001b[39;00m \u001b[38;5;129;01mnot\u001b[39;00m \u001b[38;5;28mself\u001b[39m\u001b[38;5;241m.\u001b[39m_allow_stdin:\n\u001b[0;32m   1172\u001b[0m     \u001b[38;5;28;01mraise\u001b[39;00m StdinNotImplementedError(\n\u001b[0;32m   1173\u001b[0m         \u001b[38;5;124m\"\u001b[39m\u001b[38;5;124mraw_input was called, but this frontend does not support input requests.\u001b[39m\u001b[38;5;124m\"\u001b[39m\n\u001b[0;32m   1174\u001b[0m     )\n\u001b[1;32m-> 1175\u001b[0m \u001b[38;5;28;01mreturn\u001b[39;00m \u001b[38;5;28mself\u001b[39m\u001b[38;5;241m.\u001b[39m_input_request(\n\u001b[0;32m   1176\u001b[0m     \u001b[38;5;28mstr\u001b[39m(prompt),\n\u001b[0;32m   1177\u001b[0m     \u001b[38;5;28mself\u001b[39m\u001b[38;5;241m.\u001b[39m_parent_ident[\u001b[38;5;124m\"\u001b[39m\u001b[38;5;124mshell\u001b[39m\u001b[38;5;124m\"\u001b[39m],\n\u001b[0;32m   1178\u001b[0m     \u001b[38;5;28mself\u001b[39m\u001b[38;5;241m.\u001b[39mget_parent(\u001b[38;5;124m\"\u001b[39m\u001b[38;5;124mshell\u001b[39m\u001b[38;5;124m\"\u001b[39m),\n\u001b[0;32m   1179\u001b[0m     password\u001b[38;5;241m=\u001b[39m\u001b[38;5;28;01mFalse\u001b[39;00m,\n\u001b[0;32m   1180\u001b[0m )\n",
      "File \u001b[1;32mD:\\Anaconda3\\Lib\\site-packages\\ipykernel\\kernelbase.py:1217\u001b[0m, in \u001b[0;36mKernel._input_request\u001b[1;34m(self, prompt, ident, parent, password)\u001b[0m\n\u001b[0;32m   1214\u001b[0m             \u001b[38;5;28;01mbreak\u001b[39;00m\n\u001b[0;32m   1215\u001b[0m \u001b[38;5;28;01mexcept\u001b[39;00m \u001b[38;5;167;01mKeyboardInterrupt\u001b[39;00m:\n\u001b[0;32m   1216\u001b[0m     \u001b[38;5;66;03m# re-raise KeyboardInterrupt, to truncate traceback\u001b[39;00m\n\u001b[1;32m-> 1217\u001b[0m     \u001b[38;5;28;01mraise\u001b[39;00m \u001b[38;5;167;01mKeyboardInterrupt\u001b[39;00m(\u001b[38;5;124m\"\u001b[39m\u001b[38;5;124mInterrupted by user\u001b[39m\u001b[38;5;124m\"\u001b[39m) \u001b[38;5;28;01mfrom\u001b[39;00m \u001b[38;5;28;01mNone\u001b[39;00m\n\u001b[0;32m   1218\u001b[0m \u001b[38;5;28;01mexcept\u001b[39;00m \u001b[38;5;167;01mException\u001b[39;00m:\n\u001b[0;32m   1219\u001b[0m     \u001b[38;5;28mself\u001b[39m\u001b[38;5;241m.\u001b[39mlog\u001b[38;5;241m.\u001b[39mwarning(\u001b[38;5;124m\"\u001b[39m\u001b[38;5;124mInvalid Message:\u001b[39m\u001b[38;5;124m\"\u001b[39m, exc_info\u001b[38;5;241m=\u001b[39m\u001b[38;5;28;01mTrue\u001b[39;00m)\n",
      "\u001b[1;31mKeyboardInterrupt\u001b[0m: Interrupted by user"
     ]
    }
   ],
   "source": [
    "img.fill(255)\n",
    "for i in range(3,8,4):\n",
    "    img[i]=0\n",
    "    img[:,i]=0\n",
    "\n",
    "arr.fill(2)\n",
    "turn=1\n",
    "flag=False\n",
    "players={1: 'Player Com',\n",
    "         0: 'Player Human'}\n",
    "\n",
    "\n",
    "while(True):\n",
    "    #print(arr)\n",
    "    turn=abs(turn-1)\n",
    "    if turn==0:\n",
    "        pos=int(input('Enter Position:'))-1\n",
    "            \n",
    "        posi=pos//3\n",
    "        posj=pos%3\n",
    "\n",
    "        clear_output(wait=True)\n",
    "        arr[posi,posj]=turn\n",
    "        create_circle([posi,posj])\n",
    "    else:\n",
    "        temp=empty_pos(arr)\n",
    "                \n",
    "        if len(temp)==0:\n",
    "            break\n",
    "  \n",
    "        pos=intelligent_move(temp) #bestpos\n",
    "        #print(pos)\n",
    "    \n",
    "        arr[temp[pos][0],temp[pos][1]]=turn\n",
    "\n",
    "        create_cross(temp[pos])\n",
    "    \n",
    "    if turn==1:\n",
    "        plt.title(f'{players[turn]} Position:{pos}')\n",
    "    else:\n",
    "        plt.title(f'{players[turn]} Position:{[posi,posj]}')\n",
    "    plt.axis('off')\n",
    "    plt.imshow(img)\n",
    "    plt.show()\n",
    "        \n",
    "    if human_win()==True or comp_win()==True:\n",
    "        flag=True\n",
    "        print(players[turn],' WON!!')\n",
    "        break\n",
    "            \n",
    "    clear_output(wait=True)\n",
    "    time.sleep(2)\n",
    "\n",
    "if flag==False:\n",
    "    plt.axis('off')\n",
    "    plt.imshow(img)\n",
    "    plt.show()\n",
    "    print('DRAW!!!')\n",
    "    "
   ]
  },
  {
   "cell_type": "code",
   "execution_count": null,
   "id": "0b1e0040-c448-4cad-97bd-d0c6224c0b82",
   "metadata": {},
   "outputs": [],
   "source": []
  }
 ],
 "metadata": {
  "kernelspec": {
   "display_name": "Python 3 (ipykernel)",
   "language": "python",
   "name": "python3"
  },
  "language_info": {
   "codemirror_mode": {
    "name": "ipython",
    "version": 3
   },
   "file_extension": ".py",
   "mimetype": "text/x-python",
   "name": "python",
   "nbconvert_exporter": "python",
   "pygments_lexer": "ipython3",
   "version": "3.11.3"
  }
 },
 "nbformat": 4,
 "nbformat_minor": 5
}
